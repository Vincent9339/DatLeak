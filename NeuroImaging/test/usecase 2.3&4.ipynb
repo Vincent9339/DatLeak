{
 "cells": [
  {
   "cell_type": "markdown",
   "id": "dfce592f-a178-4127-9a39-db5b85a1dde9",
   "metadata": {},
   "source": [
    "In this notebook you'll find a range of tests showcasing how leakage is detected using our repostory. \n",
    "This notebook is divided into two sections where each section is analyzing one type of data.\n",
    "\n",
    "## Data\n",
    "Two different images of type MEG (Magnetoencephalography) and EEG (Electroencephalography) has been analyzed in this notebook. Each time you run a test will be downloaded and deleted at the end. Read more about MEG data in this [link](https://openneuro.org/datasets/ds000117/versions/1.0.6) and EEG data in this [link](https://osf.io/thsqg/).\n",
    "\n",
    "\n",
    "## Methods:\n",
    "We have tested the leakage score using three known methods. \n",
    "- [[Pearson correlation]](https://www.google.com/url?sa=t&source=web&rct=j&opi=89978449&url=https://en.wikipedia.org/wiki/Pearson_correlation_coefficient&ved=2ahUKEwic1fmek9KNAxVp2QIHHef7MlIQFnoECDMQAQ&usg=AOvVaw0oS2sNVkApYvcS_BsC8s3p): A mathematical correlation coefficient representing the relationship between one 2D slice of original vs. corresponding scrambled 2D slice.\n",
    "- Structural Similarity Index Measure[[SSIM]](https://www.google.com/url?sa=t&source=web&rct=j&opi=89978449&url=https://en.wikipedia.org/wiki/Structural_similarity_index_measure&ved=2ahUKEwjWrMKvktKNAxUR1QIHHcsFMcsQFnoECBAQAQ&usg=AOvVaw0DeKf5zozxPyKboaovBeRN): A perceptual metric that quantifies image quality degradation caused by scrambling.\n",
    "- Identical[[np.allclose]](https://numpy.org/doc/2.1/reference/generated/numpy.allclose.html): Searches for exact identical arrays of voxels\n",
    "## What to expect:\n",
    "- At the bottom of each test, we visualize either plots to track leakage or a report inlcuding basic descriptive statistics with distribution plots. \n",
    "- The x-axis in the plots shows scrambling parameter, and y-axis shows leakage score.\n",
    "  \n",
    "## List of tests:\n",
    "- Original Vs. Original\n",
    "- Permutation\n",
    "- Permutation - channel replaced"
   ]
  },
  {
   "cell_type": "code",
   "execution_count": 3,
   "id": "21d3441f-91cf-40c5-9710-1614f6d12b2a",
   "metadata": {},
   "outputs": [],
   "source": [
    "import os, sys, subprocess, csv, random, wget, shutil\n",
    "import numpy as np\n",
    "from IPython.display import HTML, display\n",
    "import matplotlib.pyplot as plt"
   ]
  },
  {
   "cell_type": "code",
   "execution_count": 6,
   "id": "2b916bd0-137b-4bf0-b819-e0ffcdf9512d",
   "metadata": {},
   "outputs": [],
   "source": [
    "def viz(f, crit): \n",
    "    pl = [float(x[0]) for x in f]\n",
    "    fl = [int(x[1]) for x in f]\n",
    "    \n",
    "    fig, (ax1, ax2) = plt.subplots(1, 2, figsize=(10, 4))\n",
    "    \n",
    "    ax1.plot(list(crit),pl, color='skyblue')\n",
    "    ax1.set_title(\"Partial Leakage\")\n",
    "    ax1.set_xlabel(\"Scrambling parameter\")\n",
    "    ax1.set_ylabel(\"Leakage score\")\n",
    "    ax2.plot(list(crit),fl, color='skyblue')\n",
    "    ax2.set_title(\"Full Leakage\")\n",
    "    ax2.set_xlabel(\"Scrambling parameter\")\n",
    "    \n",
    "    plt.tight_layout()\n",
    "    plt.show()\n",
    "\n",
    "def run_test(files=list, opt=list, scramble=True, clean=True, disp=False):\n",
    "    \n",
    "    os.makedirs(\"img\", exist_ok=True)\n",
    "    link_original = \"https://s3.amazonaws.com/openneuro.org/ds000117/sub-01/ses-meg/meg/sub-01_ses-meg_task-facerecognition_run-01_meg.fif?versionId=RYisEgBpM3WNBoVpb2qE2EXs4oNJFn3x\"\n",
    "    wget.download(link_original)\n",
    "    os.makedirs(\"input/original\", exist_ok=True)\n",
    "    file_ = [os.path.join(root, file) for root, _, files in os.walk(os.getcwd()) for file in files if file.endswith(\".fif\")]\n",
    "    shutil.copy2(file_[0], \"input/original\")\n",
    "    os.remove(file_[0])\n",
    "    print(f\"\\nOriginal file downloaded.\")\n",
    "    script = os.path.join(os.path.dirname(os.getcwd()), \"run_test.py\")\n",
    "    original = files[0]\n",
    "    scrambled = files[1]\n",
    "    params = {\n",
    "        \"input\": original,\n",
    "        \"output\": scrambled,\n",
    "        \"opts\": opts\n",
    "    }\n",
    "    if scramble:\n",
    "        ! scramble \"{params['input']}\" \"{params['output']}\" {\" \".join(params['opts'])}\n",
    "    print(f\"Original file is scrambled.\")\n",
    "    result= subprocess.run(\n",
    "        [\"python3\", script, original, scrambled, \"True\"],\n",
    "        capture_output=True,\n",
    "        text=True\n",
    "    )\n",
    "    print(f\"Analysis is finished.\")\n",
    "    print(result.stdout)\n",
    "\n",
    "    if disp:\n",
    "        file_ = [os.path.join(root, file) for root, _, files in os.walk(os.getcwd()+\"/report/\") for file in files if file.endswith(\".html\")]\n",
    "        with open(file_[0]) as f:\n",
    "            display(HTML(f.read()))\n",
    "  \n",
    "    print(f\"Cleaning up ...\")    \n",
    "    if clean:\n",
    "        ! rm -r input report img\n"
   ]
  },
  {
   "cell_type": "markdown",
   "id": "51ff6519-7598-4c1a-90db-b3e6a74d3294",
   "metadata": {},
   "source": [
    "# MEG"
   ]
  },
  {
   "cell_type": "markdown",
   "id": "d5cd3072-e769-438d-9f80-841cce3c0f6e",
   "metadata": {},
   "source": [
    "# Method: Original Vs. Original\n",
    "We test same original image and we expect to see completely partial leakage as well as full leakage.\n",
    "In the visualization you can see the distribution of **np.allclose** which identifies all slices are similar."
   ]
  },
  {
   "cell_type": "code",
   "execution_count": 9,
   "id": "d7a8debc-bf95-4b0c-84d5-636ae267be4f",
   "metadata": {},
   "outputs": [
    {
     "name": "stdout",
     "output_type": "stream",
     "text": [
      "100% [..................................................] 860240688 / 860240688\n",
      "Original file downloaded.\n",
      "Original file is scrambled.\n",
      "Analysis is finished.\n",
      "########################################\n",
      " - Subject ID: sub-01\n",
      " - Task: facerecognition\n",
      " - Run: run-01\n",
      " - Shape: (395, 540100)\n",
      "########################################\n",
      "TASK! viz not implemented!\n",
      "\t - Temporal: \tFull Leakage: 393/395 channels \tPartial Leakage 1.0\n",
      "\n",
      "Total time taken: 00:00:14\n",
      "\n"
     ]
    },
    {
     "ename": "IndexError",
     "evalue": "list index out of range",
     "output_type": "error",
     "traceback": [
      "\u001b[0;31m---------------------------------------------------------------------------\u001b[0m",
      "\u001b[0;31mIndexError\u001b[0m                                Traceback (most recent call last)",
      "Cell \u001b[0;32mIn[9], line 4\u001b[0m\n\u001b[1;32m      2\u001b[0m scrambled \u001b[38;5;241m=\u001b[39m \u001b[38;5;124m\"\u001b[39m\u001b[38;5;124minput/scrambled/\u001b[39m\u001b[38;5;124m\"\u001b[39m\n\u001b[1;32m      3\u001b[0m files \u001b[38;5;241m=\u001b[39m [original, original]\n\u001b[0;32m----> 4\u001b[0m \u001b[43mrun_test\u001b[49m\u001b[43m(\u001b[49m\u001b[43mfiles\u001b[49m\u001b[43m,\u001b[49m\u001b[43m \u001b[49m\u001b[43mscramble\u001b[49m\u001b[38;5;241;43m=\u001b[39;49m\u001b[38;5;28;43;01mFalse\u001b[39;49;00m\u001b[43m,\u001b[49m\u001b[43m \u001b[49m\u001b[43mclean\u001b[49m\u001b[38;5;241;43m=\u001b[39;49m\u001b[38;5;28;43;01mFalse\u001b[39;49;00m\u001b[43m,\u001b[49m\u001b[43m \u001b[49m\u001b[43mdisp\u001b[49m\u001b[38;5;241;43m=\u001b[39;49m\u001b[38;5;28;43;01mTrue\u001b[39;49;00m\u001b[43m)\u001b[49m \u001b[38;5;66;03m# NOTE: If original vs. original, then clean=False, otherwise original file gets deleted.\u001b[39;00m\n",
      "Cell \u001b[0;32mIn[6], line 49\u001b[0m, in \u001b[0;36mrun_test\u001b[0;34m(files, opt, scramble, clean, disp)\u001b[0m\n\u001b[1;32m     47\u001b[0m \u001b[38;5;28;01mif\u001b[39;00m disp:\n\u001b[1;32m     48\u001b[0m     file_ \u001b[38;5;241m=\u001b[39m [os\u001b[38;5;241m.\u001b[39mpath\u001b[38;5;241m.\u001b[39mjoin(root, file) \u001b[38;5;28;01mfor\u001b[39;00m root, _, files \u001b[38;5;129;01min\u001b[39;00m os\u001b[38;5;241m.\u001b[39mwalk(os\u001b[38;5;241m.\u001b[39mgetcwd()\u001b[38;5;241m+\u001b[39m\u001b[38;5;124m\"\u001b[39m\u001b[38;5;124m/report/\u001b[39m\u001b[38;5;124m\"\u001b[39m) \u001b[38;5;28;01mfor\u001b[39;00m file \u001b[38;5;129;01min\u001b[39;00m files \u001b[38;5;28;01mif\u001b[39;00m file\u001b[38;5;241m.\u001b[39mendswith(\u001b[38;5;124m\"\u001b[39m\u001b[38;5;124m.html\u001b[39m\u001b[38;5;124m\"\u001b[39m)]\n\u001b[0;32m---> 49\u001b[0m     \u001b[38;5;28;01mwith\u001b[39;00m \u001b[38;5;28mopen\u001b[39m(\u001b[43mfile_\u001b[49m\u001b[43m[\u001b[49m\u001b[38;5;241;43m0\u001b[39;49m\u001b[43m]\u001b[49m) \u001b[38;5;28;01mas\u001b[39;00m f:\n\u001b[1;32m     50\u001b[0m         display(HTML(f\u001b[38;5;241m.\u001b[39mread()))\n\u001b[1;32m     52\u001b[0m \u001b[38;5;28mprint\u001b[39m(\u001b[38;5;124mf\u001b[39m\u001b[38;5;124m\"\u001b[39m\u001b[38;5;124mCleaning up ...\u001b[39m\u001b[38;5;124m\"\u001b[39m)    \n",
      "\u001b[0;31mIndexError\u001b[0m: list index out of range"
     ]
    }
   ],
   "source": [
    "original = \"input/original/\"\n",
    "scrambled = \"input/scrambled/\"\n",
    "files = [original, original]\n",
    "run_test(files, scramble=False, clean=False, disp=True) # NOTE: If original vs. original, then clean=False, otherwise original file gets deleted."
   ]
  },
  {
   "cell_type": "markdown",
   "id": "12df9d3c-c7e4-43fa-a27b-775d82dd91dd",
   "metadata": {},
   "source": [
    "# Method: Permutation\n",
    "In this case we **permute** the image to see how scramble affect the leakage.\n",
    "Permutation is done in two different ways.\n",
    "\n",
    "- Independently where we pass **-i** as argument, which all arrays in the given axis are permuted independently.\n",
    "- Without **-i** the given axis remain as it is, while other axis are permuted.\n",
    "  \n",
    "We test permutation on each axis w/o passing **-i** as argument"
   ]
  },
  {
   "cell_type": "code",
   "execution_count": null,
   "id": "e695550d-1cb9-4ff5-bf55-c1c6fb6386a1",
   "metadata": {},
   "outputs": [],
   "source": []
  },
  {
   "cell_type": "markdown",
   "id": "023e0e18-b412-4211-b7d0-f3eacc5e7976",
   "metadata": {},
   "source": [
    "# EEG"
   ]
  },
  {
   "cell_type": "markdown",
   "id": "d3131d1f-e73f-4e6c-98ac-e5c656e976b7",
   "metadata": {},
   "source": [
    "# Original Vs. Original\n",
    "We test the same original image and we expect to see full leakage.\n",
    "\n",
    "For more details, we can check the visualization where you can see the distribution of identicals.\n",
    "## What to expect:\n",
    "Since we're passing the same image and consider it as scramble, we expect to see identified full leakage, and the distribution plots in each axis should show **n** number of slices that is identical. **n** is equal to the number of images each axis contains."
   ]
  },
  {
   "cell_type": "code",
   "execution_count": null,
   "id": "d075ff2b-d649-4a04-921c-8aff9b4edb18",
   "metadata": {},
   "outputs": [],
   "source": []
  }
 ],
 "metadata": {
  "kernelspec": {
   "display_name": "Python 3 (ipykernel)",
   "language": "python",
   "name": "python3"
  },
  "language_info": {
   "codemirror_mode": {
    "name": "ipython",
    "version": 3
   },
   "file_extension": ".py",
   "mimetype": "text/x-python",
   "name": "python",
   "nbconvert_exporter": "python",
   "pygments_lexer": "ipython3",
   "version": "3.11.9"
  }
 },
 "nbformat": 4,
 "nbformat_minor": 5
}
